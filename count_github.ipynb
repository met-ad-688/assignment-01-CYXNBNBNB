{
 "cells": [
  {
   "cell_type": "code",
   "execution_count": 1,
   "id": "9253321f",
   "metadata": {},
   "outputs": [],
   "source": [
    "import pandas as pd"
   ]
  },
  {
   "cell_type": "code",
   "execution_count": null,
   "id": "1f7dcc6b",
   "metadata": {},
   "outputs": [],
   "source": [
    "# Load the CSV files\n",
    "files = [\"questions.csv\", \"question_tags.csv\"] \n",
    "count = 0\n",
    "\n"
   ]
  },
  {
   "cell_type": "code",
   "execution_count": null,
   "id": "73791114",
   "metadata": {},
   "outputs": [],
   "source": [
    "for file in files:\n",
    "    df = pd.read_csv(file)\n",
    "    count += df.apply(lambda row: row.astype(str).str.contains(\"GitHub\", case=False).any(), axis=1).sum()\n",
    "\n",
    "print(f\"Total lines containing 'GitHub': {count}\")"
   ]
  },
  {
   "cell_type": "code",
   "execution_count": null,
   "id": "bc122fc8",
   "metadata": {},
   "outputs": [],
   "source": []
  },
  {
   "cell_type": "code",
   "execution_count": null,
   "id": "02b0d811",
   "metadata": {},
   "outputs": [],
   "source": []
  }
 ],
 "metadata": {
  "kernelspec": {
   "display_name": "Python 3",
   "language": "python",
   "name": "python3"
  },
  "language_info": {
   "codemirror_mode": {
    "name": "ipython",
    "version": 3
   },
   "file_extension": ".py",
   "mimetype": "text/x-python",
   "name": "python",
   "nbconvert_exporter": "python",
   "pygments_lexer": "ipython3",
   "version": "3.12.3"
  }
 },
 "nbformat": 4,
 "nbformat_minor": 5
}
